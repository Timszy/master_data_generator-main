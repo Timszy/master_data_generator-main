{
 "cells": [
  {
   "cell_type": "markdown",
   "id": "6466dcee",
   "metadata": {},
   "source": [
    "### Load data"
   ]
  },
  {
   "cell_type": "code",
   "execution_count": null,
   "id": "78cd893e",
   "metadata": {},
   "outputs": [],
   "source": [
    "import pandas as pd\n",
    "from variation_helpers import delete_values, introduce_variations, address_variation, person_variation, organization_name_variation, email_variation, department_name_variation, export_duplicate_registry\n",
    "# When data already exists, we can introduce variations to existing records to create a more diverse dataset.\n",
    "# Load existing CSV files\n",
    "datatype = \"train\"  # Set to \"train\" or \"test\" based on your requirement\n",
    "\n",
    "if datatype == \"train\":\n",
    "    addresses = pd.read_csv('src/Data_Source/Sample_35_train/train_data/Address.csv').to_dict('records')\n",
    "    healthcare_organization = pd.read_csv('src/Data_Source/Sample_35_train/train_data/HealthcareOrganization.csv').to_dict('records')\n",
    "    service_department = pd.read_csv('src/Data_Source/Sample_35_train/train_data/ServiceDepartment.csv').to_dict('records')\n",
    "    persons = pd.read_csv('src/Data_Source/Sample_35_train/train_data/Person.csv').to_dict('records') \n",
    "    healthcare_personnel = pd.read_csv('src/Data_Source/Sample_35_train/train_data/HealthcarePersonnel.csv').to_dict('records')\n",
    "    contact_points = pd.read_csv('src/Data_Source/Sample_35_train/train_data/ContactPoint.csv').to_dict('records')\n",
    "\n",
    "if datatype == \"test\":\n",
    "    addresses = pd.read_csv('src/Data_Source/Sample_15_test/sample_data/Address_s.csv').to_dict('records') \n",
    "    healthcare_organization = pd.read_csv('src/Data_Source/Sample_15_test/sample_data/HealthcareOrganization_s.csv').to_dict('records')\n",
    "    service_department = pd.read_csv('src/Data_Source/Sample_15_test/sample_data/ServiceDepartment_s.csv').to_dict('records')\n",
    "    persons = pd.read_csv('src/Data_Source/Sample_15_test/sample_data/Person_s.csv').to_dict('records') \n",
    "    healthcare_personnel = pd.read_csv('src/Data_Source/Sample_15_test/sample_data/HealthcarePersonnel_s.csv').to_dict('records')\n",
    "    contact_points = pd.read_csv('src/Data_Source/Sample_15_test/sample_data/ContactPoint_s.csv').to_dict('records')\n",
    "\n",
    "\n"
   ]
  },
  {
   "cell_type": "markdown",
   "id": "0847aee7",
   "metadata": {},
   "source": [
    "### Deleting possible fields Attribute Completeness\n"
   ]
  },
  {
   "cell_type": "code",
   "execution_count": null,
   "id": "58b7f161",
   "metadata": {},
   "outputs": [],
   "source": [
    "################## Feature Deletion ##################\n",
    "# Before introducing variations, we can delete certain fields for testing purposes.\n",
    "# Define which fields to delete for each entity type\n",
    "delete = \"low\"  # Set to \"low\" to delete fields before variations\n",
    "\n",
    "if delete == \"low\":\n",
    "    fields_to_delete_map = {\n",
    "        'Address': ['postalCode'],  # example fields\n",
    "        'Person': ['birthDate'],\n",
    "        'HealthcarePersonnel': ['email'],\n",
    "        'ContactPoint': ['availableLanguage'],\n",
    "    }\n",
    "if delete ==\"high\":\n",
    "    fields_to_delete_map = {\n",
    "        'Address': ['text'],  # example fields\n",
    "        'Person': ['personName'],\n",
    "        'HealthcareOrganization': ['healthcareOrganizationName'],\n",
    "        'ServiceDepartment': ['serviceDepartmentName'],\n",
    "        'HealthcarePersonnel': ['jobTitle'],\n",
    "        'ContactPoint': ['contactType'],\n",
    "    }\n",
    "# Apply deletion before variations\n",
    "addresses = delete_values(addresses, fields_to_delete_map.get('Address', []))\n",
    "persons = delete_values(persons, fields_to_delete_map.get('Person', []))\n",
    "healthcare_organization = delete_values(healthcare_organization, fields_to_delete_map.get('HealthcareOrganization', []))\n",
    "service_department = delete_values(service_department, fields_to_delete_map.get('ServiceDepartment', []))\n",
    "healthcare_personnel = delete_values(healthcare_personnel, fields_to_delete_map.get('HealthcarePersonnel', []))\n",
    "contact_points = delete_values(contact_points, fields_to_delete_map.get('ContactPoint', []))\n",
    "\n",
    "datatype = \"train\"  # Set to \"train\" or \"test\" based on your requirement\n",
    "# Save the structurally edited dataframes before introducing variations\n",
    "# Train variations\n",
    "if datatype == \"train\":\n",
    "    pd.DataFrame(addresses).to_csv(f'src/Data_Source/Sample_35_train/train_struct/Address_{delete}.csv', index=False)\n",
    "    pd.DataFrame(healthcare_organization).to_csv(f'src/Data_Source/Sample_35_train/train_struct/HealthcareOrganization_{delete}.csv', index=False)\n",
    "    pd.DataFrame(service_department).to_csv(f'src/Data_Source/Sample_35_train/train_struct/ServiceDepartment_{delete}.csv', index=False)\n",
    "    pd.DataFrame(persons).to_csv(f'src/Data_Source/Sample_35_train/train_struct/Person_{delete}.csv', index=False)\n",
    "    pd.DataFrame(healthcare_personnel).to_csv(f'src/Data_Source/Sample_35_train/train_struct/HealthcarePersonnel_{delete}.csv', index=False)\n",
    "    pd.DataFrame(contact_points).to_csv(f'src/Data_Source/Sample_35_train/train_struct/ContactPoint_{delete}.csv', index=False)\n",
    "\n",
    "\n",
    "# Test variations\n",
    "if datatype == \"test\":\n",
    "    pd.DataFrame(addresses).to_csv(f'src/Data_Source/Sample_15_test/sample_struct/Address_{delete}.csv', index=False)\n",
    "    pd.DataFrame(healthcare_organization).to_csv(f'src/Data_Source/Sample_15_test/sample_struct/HealthcareOrganization_{delete}.csv', index=False)\n",
    "    pd.DataFrame(service_department).to_csv(f'src/Data_Source/Sample_15_test/sample_struct/ServiceDepartment_{delete}.csv', index=False)\n",
    "    pd.DataFrame(persons).to_csv(f'src/Data_Source/Sample_15_test/sample_struct/Person_{delete}.csv', index=False)\n",
    "    pd.DataFrame(healthcare_personnel).to_csv(f'src/Data_Source/Sample_15_test/sample_struct/HealthcarePersonnel_{delete}.csv', index=False)\n",
    "    pd.DataFrame(contact_points).to_csv(f'src/Data_Source/Sample_15_test/sample_struct/ContactPoint_{delete}.csv', index=False)\n"
   ]
  },
  {
   "cell_type": "markdown",
   "id": "08535e86",
   "metadata": {},
   "source": [
    "### Deleting possible relation, relation Completeness"
   ]
  },
  {
   "cell_type": "code",
   "execution_count": null,
   "id": "c7d33c76",
   "metadata": {},
   "outputs": [],
   "source": [
    "relations_to_delete_map = {\n",
    "        'HealthcareOrganization': ['address'],\n",
    "        'ServiceDepartment': ['isPartOf'],\n",
    "        'HealthcarePersonnel': ['department'],\n",
    "    }\n",
    "\n",
    "datatype = \"train\"  # Set to \"train\" or \"test\" based on your requirement\n",
    "healthcare_organization = delete_values(healthcare_organization, relations_to_delete_map.get('HealthcareOrganization', []))\n",
    "service_department = delete_values(service_department, relations_to_delete_map.get('ServiceDepartment', []))\n",
    "healthcare_personnel = delete_values(healthcare_personnel, relations_to_delete_map.get('HealthcarePersonnel', []))\n",
    "\n",
    "\n",
    "# Save the structurally edited dataframes before introducing variations\n",
    "# Train variations\n",
    "if datatype == \"train\":\n",
    "    pd.DataFrame(addresses).to_csv(f'src/Data_Source/Sample_35_train/train_relation/Address.csv', index=False)\n",
    "    pd.DataFrame(healthcare_organization).to_csv(f'src/Data_Source/Sample_35_train/train_relation/HealthcareOrganization.csv', index=False)\n",
    "    pd.DataFrame(service_department).to_csv(f'src/Data_Source/Sample_35_train/train_relation/ServiceDepartment.csv', index=False)\n",
    "    pd.DataFrame(persons).to_csv(f'src/Data_Source/Sample_35_train/train_relation/Person.csv', index=False)\n",
    "    pd.DataFrame(healthcare_personnel).to_csv(f'src/Data_Source/Sample_35_train/train_relation/HealthcarePersonnel.csv', index=False)\n",
    "    pd.DataFrame(contact_points).to_csv(f'src/Data_Source/Sample_35_train/train_relation/ContactPoint.csv', index=False)\n",
    "\n",
    "# Test variations\n",
    "if datatype == \"test\":\n",
    "    pd.DataFrame(addresses).to_csv(f'src/Data_Source/Sample_15_test/sample_relation/Address.csv', index=False)\n",
    "    pd.DataFrame(healthcare_organization).to_csv(f'src/Data_Source/Sample_15_test/sample_relation/HealthcareOrganization.csv', index=False)\n",
    "    pd.DataFrame(service_department).to_csv(f'src/Data_Source/Sample_15_test/sample_relation/ServiceDepartment.csv', index=False)\n",
    "    pd.DataFrame(persons).to_csv(f'src/Data_Source/Sample_15_test/sample_relation/Person.csv', index=False)\n",
    "    pd.DataFrame(healthcare_personnel).to_csv(f'src/Data_Source/Sample_15_test/sample_relation/HealthcarePersonnel.csv', index=False)\n",
    "    pd.DataFrame(contact_points).to_csv(f'src/Data_Source/Sample_15_test/sample_relation/ContactPoint.csv', index=False)"
   ]
  },
  {
   "cell_type": "markdown",
   "id": "dad6cc71",
   "metadata": {},
   "source": [
    "### Adding syntactic variations\n"
   ]
  },
  {
   "cell_type": "code",
   "execution_count": null,
   "id": "674a0891",
   "metadata": {},
   "outputs": [],
   "source": [
    "##################\n",
    "#### Simple means noise_severity = 'low'  # Complex means noise_severity = \"high\"\n",
    "complexity = \"simple\"\n",
    "if complexity == \"simple\":\n",
    "    noise_severity = 'low'  # Simple variations\n",
    "elif complexity == \"complex\":\n",
    "    noise_severity = 'high'\n",
    "# no variations if noise_severity is None\n",
    "#noise_severity = None\n",
    "##################\n",
    "if noise_severity is not None:\n",
    "    # Apply additional variations (with a smaller rate to avoid overwhelming the dataset)\n",
    "    print(\"Adding more variations to the dataset...\")\n",
    "    dupe_addresses = introduce_variations(addresses, address_variation, variation_rate=0.8, entity_type='Address', noise=noise_severity)\n",
    "\n",
    "    dupe_healthcare_organization = introduce_variations(healthcare_organization, organization_name_variation, variation_rate=0.8, entity_type='HealthcareOrganization', noise=noise_severity)\n",
    "\n",
    "    dupe_service_department = introduce_variations(service_department, department_name_variation, variation_rate=0.8, entity_type='ServiceDepartment', noise=noise_severity)\n",
    "\n",
    "    dupe_persons = introduce_variations(persons, person_variation, variation_rate=0.8, entity_type='Person', noise=noise_severity)\n",
    "\n",
    "    dupe_healthcare_personnel = introduce_variations(healthcare_personnel, email_variation, variation_rate=0.8, entity_type='HealthcarePersonnel', noise=noise_severity)\n",
    "\n",
    "    dupe_contact_points = introduce_variations(contact_points, email_variation, variation_rate=0.8, entity_type='ContactPoint', noise=noise_severity)\n",
    "\n",
    "    # Export the updated duplicate registry\n",
    "    export_duplicate_registry('ground_truths/test_golden_standard_high.csv')\n",
    "\n",
    "    print(\"Additional variations applied and registered in 'train_golden_standard_duplicates.csv'\")\n"
   ]
  }
 ],
 "metadata": {
  "kernelspec": {
   "display_name": ".venv",
   "language": "python",
   "name": "python3"
  },
  "language_info": {
   "codemirror_mode": {
    "name": "ipython",
    "version": 3
   },
   "file_extension": ".py",
   "mimetype": "text/x-python",
   "name": "python",
   "nbconvert_exporter": "python",
   "pygments_lexer": "ipython3",
   "version": "3.10.11"
  }
 },
 "nbformat": 4,
 "nbformat_minor": 5
}
