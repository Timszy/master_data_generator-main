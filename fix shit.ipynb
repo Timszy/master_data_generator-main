{
 "cells": [
  {
   "cell_type": "code",
   "execution_count": 5,
   "id": "25bc9cd4",
   "metadata": {},
   "outputs": [],
   "source": [
    "import pandas as pd\n",
    "\n",
    "sound = 'high'  # Change this to 'low' or 'medium' as needed\n",
    "Address_good = pd.read_csv(f'Data_source/Sample_15_test/sample_struct/Address_{sound}.csv')  \n",
    "ContactPoint_good = pd.read_csv(f'Data_source/Sample_15_test/sample_struct/ContactPoint_{sound}.csv')\n",
    "HealthcareOrganization_good = pd.read_csv(f'Data_source/Sample_15_test/sample_struct/HealthcareOrganization_{sound}.csv')\n",
    "HealthcarePersonnel_good = pd.read_csv(f'Data_source/Sample_15_test/sample_struct/HealthcarePersonnel_{sound}.csv')\n",
    "Person_good = pd.read_csv(f'Data_source/Sample_15_test/sample_struct/Person_{sound}.csv')\n",
    "ServiceDepartment_good = pd.read_csv(f'Data_source/Sample_15_test/sample_struct/ServiceDepartment_{sound}.csv')\n",
    "\n",
    "\n",
    "noise = 'low'  # Change this to 'low' or 'medium' as needed\n",
    "Address_df = pd.read_csv(f'Data_source/Sample_15_test/sample_struct/Address_{noise}.csv')  \n",
    "ContactPoint_df = pd.read_csv(f'Data_source/Sample_15_test/sample_struct/ContactPoint_{noise}.csv')\n",
    "HealthcareOrganization_df = pd.read_csv(f'Data_source/Sample_15_test/sample_struct/HealthcareOrganization_{noise}.csv')\n",
    "HealthcarePersonnel_df = pd.read_csv(f'Data_source/Sample_15_test/sample_struct/HealthcarePersonnel_{noise}.csv')\n",
    "Person_df = pd.read_csv(f'Data_source/Sample_15_test/sample_struct/Person_{noise}.csv')\n",
    "ServiceDepartment_df = pd.read_csv(f'Data_source/Sample_15_test/sample_struct/ServiceDepartment_{noise}.csv')"
   ]
  },
  {
   "cell_type": "code",
   "execution_count": 6,
   "id": "4f906bdf",
   "metadata": {},
   "outputs": [],
   "source": [
    "# Replace 'anchor' column in *_good DataFrames with values from corresponding normal DataFrames\n",
    "Address_df['anchor'] = Address_good['anchor'].values\n",
    "ContactPoint_df['anchor'] = ContactPoint_good['anchor'].values\n",
    "HealthcareOrganization_df['anchor'] = HealthcareOrganization_good['anchor'].values\n",
    "HealthcarePersonnel_df['anchor'] = HealthcarePersonnel_good['anchor'].values\n",
    "Person_df['anchor'] = Person_good['anchor'].values\n",
    "ServiceDepartment_df['anchor'] = ServiceDepartment_good['anchor'].values\n"
   ]
  },
  {
   "cell_type": "code",
   "execution_count": 9,
   "id": "45f37c95",
   "metadata": {},
   "outputs": [],
   "source": [
    "Address_df.to_csv(f'Data_source/Sample_15_test/sample_struct/Address_{noise}_modified.csv', index=False)\n",
    "ContactPoint_df.to_csv(f'Data_source/Sample_15_test/sample_struct/ContactPoint_{noise}_modified.csv', index=False)\n",
    "HealthcareOrganization_df.to_csv(f'Data_source/Sample_15_test/sample_struct/HealthcareOrganization_{noise}_modified.csv', index=False)\n",
    "HealthcarePersonnel_df.to_csv(f'Data_source/Sample_15_test/sample_struct/HealthcarePersonnel_{noise}_modified.csv', index=False)\n",
    "Person_df.to_csv(f'Data_source/Sample_15_test/sample_struct/Person_{noise}_modified.csv', index=False)\n",
    "ServiceDepartment_df.to_csv(f'Data_source/Sample_15_test/sample_struct/ServiceDepartment_{noise}_modified.csv', index=False)"
   ]
  }
 ],
 "metadata": {
  "kernelspec": {
   "display_name": "venv",
   "language": "python",
   "name": "python3"
  },
  "language_info": {
   "codemirror_mode": {
    "name": "ipython",
    "version": 3
   },
   "file_extension": ".py",
   "mimetype": "text/x-python",
   "name": "python",
   "nbconvert_exporter": "python",
   "pygments_lexer": "ipython3",
   "version": "3.10.11"
  }
 },
 "nbformat": 4,
 "nbformat_minor": 5
}
