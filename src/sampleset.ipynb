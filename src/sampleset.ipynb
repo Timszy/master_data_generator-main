{
 "cells": [
  {
   "cell_type": "markdown",
   "id": "09c13293",
   "metadata": {},
   "source": [
    "# Notebook for sampling the main dataset"
   ]
  },
  {
   "cell_type": "code",
   "execution_count": 1,
   "id": "0d51bced",
   "metadata": {},
   "outputs": [],
   "source": [
    "import pandas as pd\n",
    "import os\n",
    "\n",
    "Address_df = pd.read_csv('Sample_15_test/sample_data/Address_s.csv')\n",
    "ContactPoint_df = pd.read_csv('Sample_15_test/sample_data/ContactPoint_s.csv')\n",
    "HealthcareOrganization_df = pd.read_csv('Sample_15_test/sample_data/HealthcareOrganization_s.csv')\n",
    "HealthcarePersonnel_df = pd.read_csv('Sample_15_test/sample_data/HealthcarePersonnel_s.csv')\n",
    "Person_df = pd.read_csv('Sample_15_test/sample_data/Person_s.csv')\n",
    "ServiceDepartment_df = pd.read_csv('Sample_15_test/sample_data/ServiceDepartment_s.csv')\n",
    "\n",
    "Address = pd.read_csv('Data_Source/Address.csv')\n",
    "ContactPoint = pd.read_csv('Data_Source/ContactPoint.csv')\n",
    "HealthcareOrganization = pd.read_csv('Data_Source/HealthcareOrganization.csv')\n",
    "HealthcarePersonnel = pd.read_csv('Data_Source/HealthcarePersonnel.csv')\n",
    "Person = pd.read_csv('Data_Source/Person.csv')\n",
    "ServiceDepartment = pd.read_csv('Data_Source/ServiceDepartment.csv')"
   ]
  },
  {
   "cell_type": "code",
   "execution_count": null,
   "id": "1e4b7a58",
   "metadata": {},
   "outputs": [
    {
     "name": "stdout",
     "output_type": "stream",
     "text": [
      "Original Address length: 449, Cleaned Address length: 321\n",
      "All cleaned files have been moved to 'Data_source\\Sample_35_train\\train_data'\n"
     ]
    }
   ],
   "source": [
    "# Define dataframe pairs explicitly\n",
    "dataframes = [\n",
    "    (Address_df, Address),\n",
    "    (ContactPoint_df, ContactPoint),\n",
    "    (HealthcareOrganization_df, HealthcareOrganization),\n",
    "    (HealthcarePersonnel_df, HealthcarePersonnel),\n",
    "    (Person_df, Person),\n",
    "    (ServiceDepartment_df, ServiceDepartment),\n",
    "]\n",
    "\n",
    "def remove_subset_by_identifier(subset_df, main_df, key='identifier'):\n",
    "    subset_ids = subset_df[key].unique()\n",
    "    return main_df[~main_df[key].isin(subset_ids)].copy()\n",
    "\n",
    "# Apply the function to each pair\n",
    "Address_clean, ContactPoint_clean, HealthcareOrganization_clean, HealthcarePersonnel_clean, Person_clean, ServiceDepartment_clean = [\n",
    "    remove_subset_by_identifier(subset, main) for subset, main in dataframes\n",
    "]\n",
    "\n",
    "# Verify the result\n",
    "print(f\"Original Address length: {len(Address)}, Cleaned Address length: {len(Address_clean)}\")\n",
    "\n",
    "\n",
    "# Move all cleaned files to 'Sample_35_train/train_data'\n",
    "output_dir = os.path.join('Sample_35_train', 'train_data')\n",
    "os.makedirs(output_dir, exist_ok=True)\n",
    "\n",
    "HealthcareOrganization_clean.to_csv(os.path.join(output_dir, 'HealthcareOrganization.csv'), index=False)\n",
    "HealthcarePersonnel_clean.to_csv(os.path.join(output_dir, 'HealthcarePersonnel.csv'), index=False)\n",
    "Person_clean.to_csv(os.path.join(output_dir, 'Person.csv'), index=False)\n",
    "ServiceDepartment_clean.to_csv(os.path.join(output_dir, 'ServiceDepartment.csv'), index=False)\n",
    "Address_clean.to_csv(os.path.join(output_dir, 'Address.csv'), index=False)\n",
    "ContactPoint_clean.to_csv(os.path.join(output_dir, 'ContactPoint.csv'), index=False)\n",
    "\n",
    "print(f\"All cleaned files have been moved to '{output_dir}'\")"
   ]
  }
 ],
 "metadata": {
  "kernelspec": {
   "display_name": ".venv",
   "language": "python",
   "name": "python3"
  },
  "language_info": {
   "codemirror_mode": {
    "name": "ipython",
    "version": 3
   },
   "file_extension": ".py",
   "mimetype": "text/x-python",
   "name": "python",
   "nbconvert_exporter": "python",
   "pygments_lexer": "ipython3",
   "version": "3.10.11"
  }
 },
 "nbformat": 4,
 "nbformat_minor": 5
}
